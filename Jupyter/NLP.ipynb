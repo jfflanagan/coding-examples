{
 "cells": [
  {
   "cell_type": "code",
   "execution_count": 1,
   "metadata": {},
   "outputs": [],
   "source": [
    "import nltk\n",
    "from nltk.corpus import words # import an English dictionary"
   ]
  },
  {
   "cell_type": "code",
   "execution_count": 2,
   "metadata": {},
   "outputs": [],
   "source": [
    "# create the Trie\n",
    "class Trie:\n",
    "    def __init__(self):\n",
    "        self.root = [{}]\n",
    "        self.word_list = set()\n",
    "        self._init_english_dictionary()\n",
    "\n",
    "    def insert_word(self, word):\n",
    "        node = self.root[0]\n",
    "        word = word\n",
    "        for c in word:\n",
    "            if c in node:\n",
    "                node = self.root[node[c]]\n",
    "            else:\n",
    "                node[c] = len(self.root)\n",
    "                self.root.append({})\n",
    "                node = self.root[-1]\n",
    "\n",
    "        node['$'] = None\n",
    "\n",
    "    def unscrable_word(self, scrambled_word):\n",
    "        self.word_list = set()\n",
    "        self._traverse_trie_unscramble(self.root[0], \"\", scrambled_word)\n",
    "        \n",
    "        return self.word_list\n",
    "        \n",
    "    def _init_english_dictionary(self):\n",
    "        for word in words.words():\n",
    "            self.insert_word(word.lower())\n",
    "\n",
    "    def _traverse_trie_unscramble(self, node, current_word, scrambled_word):\n",
    "        if not scrambled_word:\n",
    "            if '$' in node:\n",
    "                self.word_list.add(current_word)\n",
    "            return\n",
    "        # explore all permutations using backtracking\n",
    "        for i in range(len(scrambled_word)):\n",
    "            c = scrambled_word[i]\n",
    "            if c in node:\n",
    "                self._traverse_trie_unscramble(self.root[node[c]], current_word + c, \n",
    "                                        scrambled_word[:i] + scrambled_word[i+1:])\n",
    " "
   ]
  },
  {
   "cell_type": "code",
   "execution_count": 3,
   "metadata": {},
   "outputs": [],
   "source": [
    "trie = Trie()"
   ]
  },
  {
   "cell_type": "code",
   "execution_count": 6,
   "metadata": {},
   "outputs": [
    {
     "name": "stdout",
     "output_type": "stream",
     "text": [
      "{'answer'}\n"
     ]
    }
   ],
   "source": [
    "# unscramble a word\n",
    "words = trie.unscrable_word(\"waesrn\")\n",
    "print(words)"
   ]
  },
  {
   "cell_type": "code",
   "execution_count": 43,
   "metadata": {},
   "outputs": [],
   "source": [
    "# recurse the tree, auto complete...\n",
    "\n",
    "def traverse_trie(node, current_word, word_list):\n",
    "    for c in node:\n",
    "        if c == '$':\n",
    "            word_list.append(current_word)\n",
    "            continue\n",
    "            \n",
    "        next_word = current_word + c\n",
    "        next_node = root[node[c]]\n",
    "        if next_node:\n",
    "            traverse_trie(next_node, next_word, word_list)\n",
    "             \n",
    "    \n",
    "def auto_complete(prefix, root, word_list):\n",
    "    # find the subtree based on the prefix\n",
    "    node = root[0]\n",
    "    for c in prefix:\n",
    "        if c in node and c != None:\n",
    "            node = root[node[c]]\n",
    "        else:\n",
    "            return None\n",
    "        \n",
    "    # traverse the subtree\n",
    "    traverse_trie(node, prefix, word_list)\n",
    "\n",
    "word_list = []\n",
    "auto_complete('tree', root, word_list)\n",
    "#word_list"
   ]
  },
  {
   "cell_type": "markdown",
   "metadata": {},
   "source": [
    "# Scramble a word"
   ]
  },
  {
   "cell_type": "code",
   "execution_count": 28,
   "metadata": {},
   "outputs": [
    {
     "name": "stdout",
     "output_type": "stream",
     "text": [
      "atrsuhyd\n"
     ]
    }
   ],
   "source": [
    "import random\n",
    "\n",
    "myword = list(\"abc\")\n",
    "\n",
    "def swap(word, i, j):\n",
    "    temp = word[i]\n",
    "    word[i] = word[j]\n",
    "    word[j] = temp\n",
    "\n",
    "# create all permutations\n",
    "def permutation(word, left, right):\n",
    "    if left == right:\n",
    "        print(''.join(word))\n",
    "        return\n",
    "    \n",
    "    for i in range(left, right + 1):\n",
    "        swap(word, left, i)\n",
    "        permutation(word, left + 1, right)\n",
    "        swap(word, i, left)\n",
    "        \n",
    "#permutation(myword, 0, len(myword) - 1) # test the transpostion scheme for creating permutations\n",
    "\n",
    "# single permutation\n",
    "testword = list(\"thursday\")\n",
    "def one_permutation(word, left, right):\n",
    "    if left == right:\n",
    "        print(''.join(word))\n",
    "        return\n",
    "    \n",
    "    i = random.randint(left, right)\n",
    "    \n",
    "    swap(word, left, i)\n",
    "    one_permutation(word, left + 1, right)\n",
    "    swap(word, i, left)\n",
    "        \n",
    "one_permutation(testword, 0, len(testword) - 1)"
   ]
  },
  {
   "cell_type": "code",
   "execution_count": null,
   "metadata": {},
   "outputs": [],
   "source": []
  },
  {
   "cell_type": "code",
   "execution_count": null,
   "metadata": {},
   "outputs": [],
   "source": []
  },
  {
   "cell_type": "code",
   "execution_count": null,
   "metadata": {},
   "outputs": [],
   "source": []
  }
 ],
 "metadata": {
  "kernelspec": {
   "display_name": "Python 3",
   "language": "python",
   "name": "python3"
  },
  "language_info": {
   "codemirror_mode": {
    "name": "ipython",
    "version": 3
   },
   "file_extension": ".py",
   "mimetype": "text/x-python",
   "name": "python",
   "nbconvert_exporter": "python",
   "pygments_lexer": "ipython3",
   "version": "3.8.5"
  }
 },
 "nbformat": 4,
 "nbformat_minor": 4
}
